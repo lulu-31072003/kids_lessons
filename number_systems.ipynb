{
 "cells": [
  {
   "cell_type": "markdown",
   "metadata": {},
   "source": [
    "Ahojte!\n",
    "\n",
    "Dnes si vytvoríme program, ktorý prevádza čísla z jednej číselnej sústavy, do druhej!\n",
    "\n",
    "Program bude mať 2 časti:\n",
    "- prevod z číselnej sústavy (so základom od 2 do 10) do desiatkovej\n",
    "- prevod do číselnej sústavy (so základom od 2 do 10) z desiatkovej\n",
    "\n",
    "Poďme na to!"
   ]
  },
  {
   "cell_type": "markdown",
   "metadata": {},
   "source": [
    "---\n",
    "Úloha 1:\n",
    "\n",
    "Napíš funkciu bin_to_dec(num), s nasledovnou funkcionalitou:\n",
    "- funkcia bude mať vstupný argument nejaké číslo\n",
    "- toto číslo premení z dvojkovej sústavy do desiatkovú\n",
    "- výsledok vráti\n"
   ]
  },
  {
   "cell_type": "code",
   "execution_count": null,
   "metadata": {},
   "outputs": [],
   "source": [
    "def bin_to_dec():\n",
    "    pass"
   ]
  },
  {
   "cell_type": "markdown",
   "metadata": {},
   "source": [
    "---\n",
    "Úloha 2:\n",
    "\n",
    "Vylepši predošlú funkciu tak, aby premieňala číslo z rôznych sústav (nie len z dvojkovej) do desiatkovej!\n",
    "- funkciu treba premenovať (už to nie je vždy binary to decimal)\n",
    "- funkcia musí prímať ďalší vstupný argument, ktorý reprezentuje základ sústavy, z ktorej premieňame"
   ]
  },
  {
   "cell_type": "markdown",
   "metadata": {},
   "source": [
    "---\n",
    "Úloha 3:\n",
    "\n",
    "Napíš funkciu dec_to_bin(num), s nasledovnou funkcionalitou:\n",
    "- funkcia musí mať vstupný argument nejaké číslo\n",
    "- toto číslo premení z desiatkovej sústavy, do dvojkovej\n",
    "- výsledok vráti"
   ]
  },
  {
   "cell_type": "code",
   "execution_count": null,
   "metadata": {},
   "outputs": [],
   "source": [
    "def dec_to_bin():\n",
    "    pass"
   ]
  },
  {
   "cell_type": "markdown",
   "metadata": {},
   "source": [
    "---\n",
    "Úloha 4:\n",
    "\n",
    "Vylepši predošlú funkciu tak, aby premieňala číslo z desiatkovej sústavy, do rôznej, nie len do dvojkovej!\n",
    "- funkciu treba opäť premenovať\n",
    "- aj v tomto prípade musí funkcia prijímať ďalší vstupný argument, ktorý reprezentuje základ sústavy, do ktorej chceme premieňať"
   ]
  },
  {
   "cell_type": "markdown",
   "metadata": {},
   "source": [
    "---\n",
    "Úloha 5:\n",
    "\n",
    "Napíšte hlavný program, ktorý bude používateľsky prívetivý!\n",
    "- program používateľa pozdraví\n",
    "- spýta sa ho, či chce premieňať číslo Z desiatkovej, alebo DO desiatkovej sústavy\n",
    "- ak Z desiatkovej sústavy, spýta sa, na akú sústavu ho chce premeniť\n",
    "- ak DO desiatkovej sústavy, spýta sa, z akej sústavy ho chce premeniť\n",
    "- vyzve používateľa, aby zadal číslo\n",
    "- premení číslo pomocou jednej z funkcií a výsledok napíše na obrazovku"
   ]
  },
  {
   "cell_type": "code",
   "execution_count": 1,
   "metadata": {},
   "outputs": [
    {
     "name": "stdout",
     "output_type": "stream",
     "text": [
      "Hi! You can start coding your great program here!\n"
     ]
    }
   ],
   "source": [
    "print(\"Hi! You can start coding your great program here!\")"
   ]
  },
  {
   "cell_type": "markdown",
   "metadata": {},
   "source": [
    "---\n",
    "\n",
    "Nasledujúce úlohy sú bonusové, teda sú náročnejšie a vôbec nevadí, ak ich náhodou neviete vyriešiť. Sú ale zaujímavé, takže ak by si ich chcel niekto vyskúšať, tak kľudne môže :D .\n",
    "\n",
    "---\n",
    "BONUS 1:\n",
    "\n",
    "Program je skvelý, ale stále je čo zlepšovať.\n",
    "Môže sa totiž stať, že používateľ chce premeniť číslo z nejakej sústavy do desiatkovej,\n",
    "ale pritom zadá číslo so zlými číslicami.\n",
    "\n",
    "Dajme tomu, že chceme prevádzať číslo z trojkovej sústavy, do desiatkovej.\n",
    "Číslo v trojkovej sústave, môže obsahovať len číslice 0, 1 a 2.\n",
    "Zatiaľ ale nič používateľovi nebráni zadať aj iné číslice, napríklad 8!\n",
    "Program zbehne aj v takom prípade, ale výsledok nebude dávať zmysel.\n",
    "\n",
    "Skús do programu pridať kontrolu číslic, ktorá používateľa upozorní, ak zadá nesprávne číslice."
   ]
  },
  {
   "cell_type": "markdown",
   "metadata": {},
   "source": [
    "---\n",
    "BONUS 2:\n",
    "\n",
    "A čo tak premena z ľubovoľnej sústavy, do ľubovoľnej? Používateľ možno chce zmeniť číslo z dvojkovej sústavy, do osmičkovej!"
   ]
  },
  {
   "cell_type": "markdown",
   "metadata": {},
   "source": [
    "---\n",
    "BONUS 3:\n",
    "\n",
    "Ale toto žu bude naozaj ťažký oriešok ;) !\n",
    "\n",
    "Častokrát sa používa aj šestnástková sústava. To ale znamená, že používame 16 číslic:\n",
    "- 0, 1, 2, 3, 4, 5, 6, 7, 8, 9, 10, 11, 12, 13, 14, 15\n",
    "\n",
    "Číslo 172, by sme tak zakódovali nasledovne:\n",
    "- 172 = 160 + 12 = 10 * 16^1 + 12 * 16^0 => 1012\n",
    "\n",
    "Pri spätnom prevode, by ale nastal problém:\n",
    "- 1012 => 1 * 16^3 + 0 * 16^2 + 1 * 16^1 + 2 * 16^0 = 4114\n",
    "- Teda sme nezískali pôvodné číslo 172, ale 4114!\n",
    "\n",
    "Problém je v tom, že pri prevode do šestnástkovej sústavy, potrebujeme dať najavo, že 10 a 12 sú samostatné \"číslice\".\n",
    "A to sa robí písmenami. Teda:\n",
    "- 10 = A\n",
    "- 11 = B\n",
    "- 12 = C\n",
    "- 13 = D\n",
    "- 14 = E\n",
    "- 15 = F\n",
    "\n",
    "Takže číslo 172 v desiatkovej sústave, sa v šestnástkovej sústave zapíše ako AC!\n",
    "Potom už spätný prevod nie je problém:\n",
    "- AC => A * 16^1 + C * 16^0 = 10 * 16^1 + 12 * 16^0 = 160 + 12 = 172\n",
    "\n",
    "Skús zmeniť svoj program, aby dokázal pracovať so sústavami, ktoré majú základ väčší ako 10!"
   ]
  }
 ],
 "metadata": {
  "kernelspec": {
   "display_name": "base",
   "language": "python",
   "name": "python3"
  },
  "language_info": {
   "codemirror_mode": {
    "name": "ipython",
    "version": 3
   },
   "file_extension": ".py",
   "mimetype": "text/x-python",
   "name": "python",
   "nbconvert_exporter": "python",
   "pygments_lexer": "ipython3",
   "version": "3.11.5"
  }
 },
 "nbformat": 4,
 "nbformat_minor": 2
}
